{
  "nbformat": 4,
  "nbformat_minor": 0,
  "metadata": {
    "colab": {
      "name": "S1 Àlgebra.ipynb",
      "version": "0.3.2",
      "provenance": [],
      "collapsed_sections": [],
      "include_colab_link": true
    },
    "kernelspec": {
      "name": "python3",
      "display_name": "Python 3"
    }
  },
  "cells": [
    {
      "cell_type": "markdown",
      "metadata": {
        "id": "view-in-github",
        "colab_type": "text"
      },
      "source": [
        "<a href=\"https://colab.research.google.com/github/xaviervidalBCN/JPRE19_Colaboratory/blob/master/S1%20%C3%80lgebra.ipynb\" target=\"_parent\"><img src=\"https://colab.research.google.com/assets/colab-badge.svg\" alt=\"Open In Colab\"/></a>"
      ]
    },
    {
      "cell_type": "markdown",
      "metadata": {
        "id": "fikQfWAs0_yY",
        "colab_type": "text"
      },
      "source": [
        "# Càlcul d'operacions algebraiques\n",
        "\n",
        "##Llibreries de treball\n",
        "\n",
        " * SymPy --- **Biblioteca de python per matemàtiques simbòliques.** --- https://docs.sympy.org/latest/index.html\n",
        "  \n",
        "\n",
        "**Tasca:**\n",
        "  * ***Carrega la llibreria 'sympy' amb el nom 'sym'.***"
      ]
    },
    {
      "cell_type": "code",
      "metadata": {
        "id": "blfGMf8a72dy",
        "colab_type": "code",
        "colab": {}
      },
      "source": [
        "#...\n"
      ],
      "execution_count": 0,
      "outputs": []
    },
    {
      "cell_type": "markdown",
      "metadata": {
        "id": "QQvAOHR-6EqV",
        "colab_type": "text"
      },
      "source": [
        "## Definició de variables \n",
        "\n",
        "**Indicacions:**\n",
        "  * Per establir una incògnita de treball fem servir ' z = sym.Symbol('z')' .\n",
        "\n",
        "**Tasca:**\n",
        "* Estableix com 'x' la incògnita amb la qual treballarem als polinomis."
      ]
    },
    {
      "cell_type": "code",
      "metadata": {
        "id": "vAsb1S4D0MpM",
        "colab_type": "code",
        "colab": {}
      },
      "source": [
        "#...\n"
      ],
      "execution_count": 0,
      "outputs": []
    },
    {
      "cell_type": "markdown",
      "metadata": {
        "id": "nhL6DJmn-3YV",
        "colab_type": "text"
      },
      "source": [
        "## Suma de polinomis\n",
        "\n",
        "**Tasca:**\n",
        "  * Realitza la **suma** dels següents polinomis: \n",
        "    * $P(x)=6x^3 + 7x^2 + 8x - 3$\n",
        "    * $Q(x)=-4x^2 + 2x + 1$\n",
        "    * El resultat del procès hauria de ser: $6x^3 + 3x^2 + 10x - 2$"
      ]
    },
    {
      "cell_type": "code",
      "metadata": {
        "id": "6CrX3r0x0QQv",
        "colab_type": "code",
        "colab": {}
      },
      "source": [
        "#...\n"
      ],
      "execution_count": 0,
      "outputs": []
    },
    {
      "cell_type": "markdown",
      "metadata": {
        "id": "_QmG2ivh_tD9",
        "colab_type": "text"
      },
      "source": [
        "## Resta de polinomis\n",
        "\n",
        "**Tasca:** \n",
        "  * Realitza la **resta** dels següents polinomis: \n",
        "    * $P(x)=8x^3 + 5x^2 + 4x - 3$\n",
        "    * $Q(x)=-8x^3 + 9x^2 - 2x + 9$\n",
        "    * El resultat del procès hauria de ser: $16x^3 - 4x^2 + 6x - 12$"
      ]
    },
    {
      "cell_type": "code",
      "metadata": {
        "id": "6Kcpzg7h0lSL",
        "colab_type": "code",
        "colab": {}
      },
      "source": [
        "#...\n"
      ],
      "execution_count": 0,
      "outputs": []
    },
    {
      "cell_type": "markdown",
      "metadata": {
        "id": "LbM99Ur5AImu",
        "colab_type": "text"
      },
      "source": [
        "## Producte de polinomis\n",
        "\n",
        "**Indicacions:** \n",
        " * Per desenvolupar un polinomi en termes cal fer servir la instrucció 'sym.expand(Polinomi)'.\n",
        "\n",
        "**Tasca:** \n",
        "  * Realitza la **multiplicació** dels següents polinomis: \n",
        "    * $P(x)=-6x^3 - 3x^2 - 6x + 4$\n",
        "    * $Q(x)=-6x^3 + 2x^2 + 7x + 9$\n",
        "    * El resultat del procès hauria de ser: $36x^6 + 6x^5 - 12x^4 - 111x^3 - 61x^2 - 26x + 36$\n"
      ]
    },
    {
      "cell_type": "code",
      "metadata": {
        "id": "vDtVA47z0qLp",
        "colab_type": "code",
        "colab": {}
      },
      "source": [
        "#...\n"
      ],
      "execution_count": 0,
      "outputs": []
    },
    {
      "cell_type": "markdown",
      "metadata": {
        "id": "6W6_-PAPDHL0",
        "colab_type": "text"
      },
      "source": [
        "## Quocient de polinomis\n",
        "\n",
        "**Indicacions:** \n",
        " * Podem calcular la **divisió entera de dos polinomis** amb la instrucció 'sym.div(Polinomi_Divident, Polinomi_Divisor)'.\n",
        "\n",
        "**Tasca:** \n",
        "  * Realitza la **divisió** dels següents polinomis: \n",
        "    * $P(x)=12x^5 - 42x^4 + 2x^3 - 12x^2 - 57x - 11$\n",
        "    * $Q(x)=2x^2 - 7x - 1$\n",
        "    * El resultat del procès hauria de ser: \n",
        "      * Quocient= $6x^3 + 4x + 8$\n",
        "      * Residu= $3x - 3$\n"
      ]
    },
    {
      "cell_type": "code",
      "metadata": {
        "id": "0UIm8iPqDIB2",
        "colab_type": "code",
        "colab": {}
      },
      "source": [
        "#...\n"
      ],
      "execution_count": 0,
      "outputs": []
    },
    {
      "cell_type": "markdown",
      "metadata": {
        "id": "cOARWWevCcHp",
        "colab_type": "text"
      },
      "source": [
        "## Potència d'un polinomi\n",
        "\n",
        "**Tasca:** \n",
        "  * Realitza el **quadrat** del següent polinomi: \n",
        "    * $P(x)=-6x^3 - 4x^2 - 7x + 4$\n",
        "    * El resultat del procès hauria de ser: $36x^6 + 48x^5 + 100x^4 + 8x^3 + 17x^2 - 56x + 16$"
      ]
    },
    {
      "cell_type": "code",
      "metadata": {
        "id": "YsZcFtgG0vNr",
        "colab_type": "code",
        "colab": {}
      },
      "source": [
        "#...\n"
      ],
      "execution_count": 0,
      "outputs": []
    },
    {
      "cell_type": "markdown",
      "metadata": {
        "id": "1An1rkw7IhWP",
        "colab_type": "text"
      },
      "source": [
        "## Màxim comú divisor de dos polinomis\n",
        "\n",
        "**Indicacions:** \n",
        " * Podem calcular el **màxim comú divisor** de dos polinomis amb la instrucció 'sym.gcd(Polinomi_A, Polinomi_B)'.\n",
        "\n",
        "**Tasca:** \n",
        "  * Realitza el **MCD** dels següents polinomis: \n",
        "    * $P(x)=-8x^5 + 5x^4 - 27x^3 + 28x^2 + 15x - 5$\n",
        "    * $Q(x)=-48x^5 + 54x^4 - 49x^3 + 33x^2 + 35x - 5$\n",
        "    * El resultat del procès hauria de ser: $8x^2 - 5x - 5$\n"
      ]
    },
    {
      "cell_type": "code",
      "metadata": {
        "id": "15-uA1y1MmCc",
        "colab_type": "code",
        "colab": {}
      },
      "source": [
        "#...\n"
      ],
      "execution_count": 0,
      "outputs": []
    },
    {
      "cell_type": "markdown",
      "metadata": {
        "id": "oQ8dsqWzMm5j",
        "colab_type": "text"
      },
      "source": [
        "## Mínim comú múltiple de dos polinomis\n",
        "\n",
        "**Indicacions:** \n",
        " * Podem calcular el **mínim comú múltiple** de dos polinomis amb la instrucció 'sym.lcm(Polinomi_A, Polinomi_B)'.\n",
        "\n",
        "**Tasca:** \n",
        "  * Realitza el **mcm** dels següents polinomis: \n",
        "    * $P(x)=20x^3 + 196x^2 + 549x + 324$\n",
        "    * $Q(x)=-50x^3 - 305x^2 - 392x - 144$\n",
        "    * El resultat del procès hauria de ser: $-100x^4 - 1060x^3 - 3529x^2 - 3816x - 1296$\n"
      ]
    },
    {
      "cell_type": "code",
      "metadata": {
        "id": "9gmNGaedM_od",
        "colab_type": "code",
        "colab": {}
      },
      "source": [
        "#...\n"
      ],
      "execution_count": 0,
      "outputs": []
    },
    {
      "cell_type": "markdown",
      "metadata": {
        "id": "k0CgMA6TRPO9",
        "colab_type": "text"
      },
      "source": [
        "## Factorització de polinomis\n",
        "\n",
        "**Indicacions:** \n",
        " * Podem calcular la **factorització** d'un polinomi amb la instrucció 'sym.factor(Polinomi)'.\n",
        "\n",
        "**Tasca:** \n",
        "  * Realitza la **factorització** del següent polinomi: \n",
        "    * $P(x)=-112x^3 + 340x^2 - 284x + 56$\n",
        "    * El resultat del procès hauria de ser: $-4(x - 1)(4x - 7)(7x - 2)$"
      ]
    },
    {
      "cell_type": "code",
      "metadata": {
        "id": "gzQ-6sFNXyq1",
        "colab_type": "code",
        "colab": {}
      },
      "source": [
        "#...\n"
      ],
      "execution_count": 0,
      "outputs": []
    },
    {
      "cell_type": "markdown",
      "metadata": {
        "id": "WRP8m-JBFGCm",
        "colab_type": "text"
      },
      "source": [
        "\n",
        "\n",
        "**Indicacions:** \n",
        "  * Podem simplificar una fracció factoritzant el resultat de l'operació. \n",
        "\n",
        "**Tasca:** \n",
        "  * Simplifica la següent fracció algebraica: \n",
        "    * $\\frac{-36x^3 - 118x^2 - 70x}{-45x^2 + 19x + 42}$ \n",
        "    * El resultat del procès hauria de ser: $\\frac{2x(2x + 5)}{5x - 6}$ "
      ]
    },
    {
      "cell_type": "code",
      "metadata": {
        "id": "IrxAnJ4O8UGW",
        "colab_type": "code",
        "colab": {}
      },
      "source": [
        "#...\n"
      ],
      "execution_count": 0,
      "outputs": []
    },
    {
      "cell_type": "markdown",
      "metadata": {
        "id": "o6O09ITKXzVY",
        "colab_type": "text"
      },
      "source": [
        "## Càlcul de les arres d'un polinomi (Resolució d'equacions)\n",
        "\n",
        "**Indicacions:** \n",
        " * Podem calcular les **arrels d'un polinomi** amb la instrucció 'sym.solve(Polinomi, Incognita)'.\n",
        "\n",
        "**Tasca:** \n",
        "  * Deternima les **arrels** del següent polinomi: \n",
        "    * $P(x)=245x^3 - 147x^2 - 80x + 48$\n",
        "    * El resultat del procès hauria de ser: [-4/7, 4/7, 3/5]"
      ]
    },
    {
      "cell_type": "code",
      "metadata": {
        "id": "XChhjyR1X6pl",
        "colab_type": "code",
        "colab": {}
      },
      "source": [
        "#...\n"
      ],
      "execution_count": 0,
      "outputs": []
    },
    {
      "cell_type": "markdown",
      "metadata": {
        "id": "Lh5NeQNkabT6",
        "colab_type": "text"
      },
      "source": [
        "## Derivada d'una funció\n",
        "\n",
        "**Indicacions:** \n",
        " * Podem calcular la **derivada** d'una funció amb la instrucció 'sym.diff(Funció, Incognita)'.\n",
        "\n",
        "**Tasca:** \n",
        "  * Realitza la **derivada** del següent polinomi: \n",
        "    * $P(x)=-8x^3 + 7x^2 + 3x - 10$\n",
        "    * El resultat del procès hauria de ser: $-24x^2 + 14x + 3$\n"
      ]
    },
    {
      "cell_type": "code",
      "metadata": {
        "id": "SmNn5v4x-cNS",
        "colab_type": "code",
        "colab": {}
      },
      "source": [
        "#...\n"
      ],
      "execution_count": 0,
      "outputs": []
    },
    {
      "cell_type": "markdown",
      "metadata": {
        "id": "yEWlz0_v_T8i",
        "colab_type": "text"
      },
      "source": [
        "## Integral indefinida d'una funció\n",
        "\n",
        "**Indicacions:** \n",
        " * Podem calcular la **Integral indefinida** d'una funció amb la instrucció 'sym.integrate(Funció, Incognita)'.\n",
        "\n",
        "**Tasca:** \n",
        "  * Realitza la **Integral indefinida** del següent polinomi: \n",
        "    * $P(x)=-4x^3 - 6x^2 + 5x - 8$\n",
        "    * El resultat del procès hauria de ser: $-x^4 - 2x^3 + \\frac{5x^2}{2} - 8x$"
      ]
    },
    {
      "cell_type": "code",
      "metadata": {
        "id": "9PQVOKqV_VaW",
        "colab_type": "code",
        "colab": {}
      },
      "source": [
        "#...\n"
      ],
      "execution_count": 0,
      "outputs": []
    },
    {
      "cell_type": "markdown",
      "metadata": {
        "id": "Wpyk-1t59udM",
        "colab_type": "text"
      },
      "source": [
        "#Millora de la visualització dels resultats.\n",
        "\n",
        "**Tasca:** \n",
        "  * Localitza dintre del llistat 'Code snippets' l'apartat 'Rendering SymPy in Colab'.\n",
        "  * Inserta el codi a la cel·la següent i pitja executar al codi que s'ha afegit.\n",
        "  * Torna a fer executar a les cel·les anteriors que fan càlculs algèbrics i visualitza els resultats."
      ]
    },
    {
      "cell_type": "code",
      "metadata": {
        "id": "Byl4Afki9wyF",
        "colab_type": "code",
        "colab": {}
      },
      "source": [
        "#..."
      ],
      "execution_count": 0,
      "outputs": []
    }
  ]
}