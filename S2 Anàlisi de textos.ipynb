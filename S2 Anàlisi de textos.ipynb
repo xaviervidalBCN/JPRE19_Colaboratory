{
  "nbformat": 4,
  "nbformat_minor": 0,
  "metadata": {
    "colab": {
      "name": "S2 Anàlisi de textos.ipynb",
      "version": "0.3.2",
      "provenance": [],
      "collapsed_sections": [],
      "include_colab_link": true
    },
    "kernelspec": {
      "name": "python3",
      "display_name": "Python 3"
    }
  },
  "cells": [
    {
      "cell_type": "markdown",
      "metadata": {
        "id": "view-in-github",
        "colab_type": "text"
      },
      "source": [
        "<a href=\"https://colab.research.google.com/github/xaviervidalBCN/JPRE19_Colaboratory/blob/master/S2%20An%C3%A0lisi%20de%20textos.ipynb\" target=\"_parent\"><img src=\"https://colab.research.google.com/assets/colab-badge.svg\" alt=\"Open In Colab\"/></a>"
      ]
    },
    {
      "cell_type": "markdown",
      "metadata": {
        "id": "TiIHYXGDEEzd",
        "colab_type": "text"
      },
      "source": [
        "# Llibreries de treball:\n",
        " * numpy --- **scientific computing** --- https://www.numpy.org\n",
        " \n",
        " * matplotlib.pyplot --- **Representació gràfica** --- https://matplotlib.org/users/pyplot_tutorial.html\n",
        " \n",
        " * wordcloud --- **Representació gràfica de núvol de paraules** ---  https://github.com/amueller/word_cloud\n",
        " \n",
        " * nltk --- **The Natural Language Toolkit (NLTK)** --- http://www.nltk.org/api/nltk.html?highlight=freqdist\n",
        " \n",
        " \n",
        " **Tasca:**\n",
        "  * ***Pitja executar i carrega les llibreries amb les quals treballarem.***"
      ]
    },
    {
      "cell_type": "code",
      "metadata": {
        "id": "ZFH5Ry6uEe0d",
        "colab_type": "code",
        "cellView": "form",
        "colab": {}
      },
      "source": [
        "#@title\n",
        "import numpy as np\n",
        "print('numpy version: ', np.__version__)\n",
        "\n",
        "import matplotlib\n",
        "import matplotlib.pyplot as plt\n",
        "print('matplotlib version: ', matplotlib.__version__)\n",
        "\n",
        "import wordcloud\n",
        "from wordcloud import WordCloud\n",
        "print('wordcloud version: ', wordcloud.__version__)\n",
        "\n",
        "from nltk.probability import FreqDist\n",
        "from nltk.tokenize import RegexpTokenizer\n",
        "import nltk, re, string, collections\n",
        "from nltk.util import ngrams # function for making ngrams\n",
        "print('nltk version:', nltk.__version__)\n",
        "print('re version:', re.__version__)"
      ],
      "execution_count": 0,
      "outputs": []
    },
    {
      "cell_type": "markdown",
      "metadata": {
        "id": "AJ_ccBqA1Hxb",
        "colab_type": "text"
      },
      "source": [
        "# Seleccionar l'obra a analitzar.\n",
        " * **Projecte Gutenberg** (https://www.gutenberg.org)\n",
        " \n",
        "   El projecte Gutenberg ofereix prop de 58,000 eBooks lliures. Aquí podreu trobar grans obres de la literatura mundial, de les quals han expirat els drets de copyright. Cents de voluntaris han digitalitzat tota aquesta documentació per gaudir i formació.\n",
        "   \n",
        " * Secció en català: https://www.gutenberg.org/browse/languages/ca\n",
        " \n",
        " \n",
        " ***Tasca:***\n",
        "  1.  ***Descarrega el document més interessant per tu, enformat 'Plain Text UTF-8'. Obre'l amb un editor de text i elimina la informació externa al document original, localitzada a l'inici i al final.***\n",
        "  1. ***Guarda el document al teu Drive.*** \n",
        "  1. *** Insereix la ubicació i el nom de l'arxiu al següent formulari i pitja executar. Recorda que per accedir al teu Drive hauràs de seguir el procediment de permís provisional que apareix a la cel·la.***"
      ]
    },
    {
      "cell_type": "code",
      "metadata": {
        "id": "7_xoF_vIHPY3",
        "colab_type": "code",
        "cellView": "form",
        "colab": {}
      },
      "source": [
        "#@title Importar arxiu de text des del nostre Drive.\n",
        "from google.colab import drive\n",
        "drive.mount('/gdrive')\n",
        "\n",
        "nom_arxiu = \"My Drive/Colab Notebooks/JPR/Enlla Poesies by Joan Maragall.txt\" #@param {type:\"string\"}\n",
        "path_arxiu = '/gdrive/' + nom_arxiu\n",
        "arxiu_text = open(path_arxiu,'r')\n",
        "text_original = arxiu_text.read()\n",
        "arxiu_text.close()\n",
        "\n",
        "#Carrega demo. (Nomès fer servir si Drive no funciona)\n",
        "#nom_arxiu = 'https://raw.githubusercontent.com/xaviervidalBCN/JPRE19_Colaboratory/master/Enlla%20Poesies%20by%20Joan%20Maragall.txt'\n",
        "#!wget -nc $nom_arxiu\n",
        "#arxiu_text= open('Enlla Poesies by Joan Maragall.txt','r')\n",
        "#text_original= arxiu_text.read()\n",
        "#arxiu_text.close()\n",
        "\n",
        "\n",
        "text_per_linies = text_original.split(\"\\n\")\n",
        "stop_words = []\n",
        "print(text_original[:300])\n",
        "#print(text_per_linies[:100])\n",
        "#print(\"Caracters a l'arxiu:\",len(text_original))\n",
        "\n"
      ],
      "execution_count": 0,
      "outputs": []
    },
    {
      "cell_type": "markdown",
      "metadata": {
        "id": "OCw_ZOm0NBhp",
        "colab_type": "text"
      },
      "source": [
        "# Generar gràfic de Núvol de Mots.\n",
        " * ***Pitja executar i visualitza el resultat de l'anàlisi.***"
      ]
    },
    {
      "cell_type": "code",
      "metadata": {
        "id": "7oUtDOr0NAEY",
        "colab_type": "code",
        "cellView": "form",
        "colab": {}
      },
      "source": [
        "#@title\n",
        "# Generar informació per dibuixar el núvol de paraules.\n",
        "#eiv_wc=WordCloud(width=800,height=500,mask=mask,random_state=21, max_font_size=110,stopwords=stop_words).generate(eiv)\n",
        "info_dibuix_nuvol = WordCloud(width=800,height=500, random_state=21, max_font_size=110, stopwords=stop_words).generate(text_original)\n",
        "\n",
        "# Representació del gràfic.\n",
        "fig = plt.figure(figsize=(16,8))\n",
        "plt.axis('off')\n",
        "plt.imshow(info_dibuix_nuvol)"
      ],
      "execution_count": 0,
      "outputs": []
    },
    {
      "cell_type": "markdown",
      "metadata": {
        "id": "3mm5Kf-ZNP-V",
        "colab_type": "text"
      },
      "source": [
        "# Generar histograma de mots al document.\n",
        " * ***Pitja executar i visualitza el resultat de l'anàlisi.***"
      ]
    },
    {
      "cell_type": "code",
      "metadata": {
        "id": "W0GYG9JuDq4t",
        "colab_type": "code",
        "cellView": "form",
        "colab": {}
      },
      "source": [
        "#@title\n",
        "# Generar informació per dibuixar histograma de mots.\n",
        "text = text_original.lower()\n",
        "tokenizer = RegexpTokenizer(r'\\w+')\n",
        "tokens = tokenizer.tokenize(text)\n",
        "tokens = [token for token in tokens if token not in stop_words]  # filter stopwords\n",
        "fdist = FreqDist(tokens)\n",
        "common = fdist.most_common(100)\n",
        "\n",
        "#print(common)\n",
        "#plt.figure(figsize=(16,5))\n",
        "#fdist.plot(15)\n",
        "\n",
        "labels, values = zip(*fdist.items())\n",
        "indSort = np.argsort(values)[::-1]\n",
        "labels = np.array(labels)[indSort]\n",
        "values = np.array(values)[indSort]\n",
        "\n",
        "plt.plot(labels[:20], values[:20], 'ro')\n",
        "plt.xticks(labels[:20], labels, rotation='vertical')\n",
        "plt.margins(0.2)\n",
        "plt.subplots_adjust(bottom=0.15)\n",
        "plt.show()"
      ],
      "execution_count": 0,
      "outputs": []
    },
    {
      "cell_type": "markdown",
      "metadata": {
        "id": "PkDyo-GNPZe-",
        "colab_type": "text"
      },
      "source": [
        "# Generar histograma de 'bigrams' del document.\n",
        " * ***Pitja executar i visualitza el resultat de l'anàlisi.***"
      ]
    },
    {
      "cell_type": "code",
      "metadata": {
        "id": "QimOEBU28oHY",
        "colab_type": "code",
        "cellView": "form",
        "colab": {}
      },
      "source": [
        "#@title\n",
        "# Generar llistat de paraules del text, filtrat.\n",
        "text = text_original.lower()\n",
        "tokens = text.split()\n",
        "tokens = [token for token in tokens if token not in stop_words]\n",
        "esBigrams = ngrams(tokens, 2)\n",
        "\n",
        "# Obtenir freqüència de cada bigrams en el corpus.\n",
        "esBigramFreq = collections.Counter(esBigrams)\n",
        "Bigrams = FreqDist(esBigramFreq)\n",
        "\n",
        "#plt.figure(figsize=(16,5))\n",
        "Bigrams.plot(15)\n",
        "\n",
        "#common = esBigramFreq.most_common(10)\n",
        "#print(common)\n",
        "\n",
        "\n",
        "\n"
      ],
      "execution_count": 0,
      "outputs": []
    },
    {
      "cell_type": "markdown",
      "metadata": {
        "id": "jqaurU2__QBS",
        "colab_type": "text"
      },
      "source": [
        "___\n",
        "#Carrega del llistat de mots buits en català.\n",
        " * Els mots buits (stopwords) són paraules gramaticals i d'altres paraules buides de significat que cal negligir a l'hora de fer un índex.\n",
        " * Exemple: a, abans, abans-d'ahir, abintestat, ací ...\n",
        " * Més informació:\n",
        "   * https://ca.wikipedia.org/wiki/Paraules_buides\n",
        "   * http://latel.upf.edu/morgana/altres/pub/ca_stop.htm\n",
        " \n",
        " ***Tasca:***\n",
        "  1.  ***Afegeix els mots que creguis a la llista 'mes_stopwords = []' per tal de no contar-les.***\n",
        "  1.  ***Pitja executar i torna a visualitzar els resultats de l'anàlisi.***"
      ]
    },
    {
      "cell_type": "code",
      "metadata": {
        "id": "qeZvDcDfd4V9",
        "colab_type": "code",
        "colab": {}
      },
      "source": [
        "# Carrega de l'arxiu stopwords en Català.\n",
        "nom_arxiu = 'https://raw.githubusercontent.com/xaviervidalBCN/JPRE19_Colaboratory/master/stopwords_ca.txt'\n",
        "!wget -nc $nom_arxiu\n",
        "arxiu_text= open('stopwords_ca.txt','r')\n",
        "stopwords= arxiu_text.read()\n",
        "stopwords = stopwords.split(\"\\n\")\n",
        "#print(stopwords[:100])\n",
        "\n",
        "# Afegir més mots buits a la llista. Exemple: mes_stopwords = ['del', 'al', 'dels']\n",
        "mes_stopwords = []\n",
        "mes_stopwords.extend(stopwords)\n",
        "stop_words = mes_stopwords\n",
        "print(stop_words)"
      ],
      "execution_count": 0,
      "outputs": []
    }
  ]
}